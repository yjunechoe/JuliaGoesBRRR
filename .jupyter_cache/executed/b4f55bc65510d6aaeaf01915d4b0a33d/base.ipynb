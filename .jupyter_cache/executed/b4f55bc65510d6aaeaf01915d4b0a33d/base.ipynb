{
 "cells": [
  {
   "cell_type": "code",
   "execution_count": 1,
   "id": "c00a40c4",
   "metadata": {},
   "outputs": [],
   "source": [
    "import IJulia\n",
    "\n",
    "# The julia kernel has built in support for Revise.jl, so this is the \n",
    "# recommended approach for long-running sessions:\n",
    "# https://github.com/JuliaLang/IJulia.jl/blob/9b10fa9b879574bbf720f5285029e07758e50a5e/src/kernel.jl#L46-L51\n",
    "\n",
    "# Users should enable revise within .julia/config/startup_ijulia.jl:\n",
    "# https://timholy.github.io/Revise.jl/stable/config/#Using-Revise-automatically-within-Jupyter/IJulia-1\n",
    "\n",
    "# clear console history\n",
    "IJulia.clear_history()\n",
    "\n",
    "fig_width = 7\n",
    "fig_height = 5\n",
    "fig_format = :retina\n",
    "fig_dpi = 96\n",
    "\n",
    "# no retina format type, use svg for high quality type/marks\n",
    "if fig_format == :retina\n",
    "  fig_format = :svg\n",
    "elseif fig_format == :pdf\n",
    "  fig_dpi = 96\n",
    "  # Enable PDF support for IJulia\n",
    "  IJulia.register_mime(MIME(\"application/pdf\"))\n",
    "end\n",
    "\n",
    "# convert inches to pixels\n",
    "fig_width = fig_width * fig_dpi\n",
    "fig_height = fig_height * fig_dpi\n",
    "\n",
    "# Intialize Plots w/ default fig width/height\n",
    "try\n",
    "  import Plots\n",
    "\n",
    "  # Plots.jl doesn't support PDF output for versions < 1.28.1\n",
    "  # so use png (if the DPI remains the default of 300 then set to 96)\n",
    "  if (Plots._current_plots_version < v\"1.28.1\") & (fig_format == :pdf)\n",
    "    Plots.gr(size=(fig_width, fig_height), fmt = :png, dpi = fig_dpi)\n",
    "  else\n",
    "    Plots.gr(size=(fig_width, fig_height), fmt = fig_format, dpi = fig_dpi)\n",
    "  end\n",
    "catch e\n",
    "  # @warn \"Plots init\" exception=(e, catch_backtrace())\n",
    "end\n",
    "\n",
    "# Initialize CairoMakie with default fig width/height\n",
    "try\n",
    "  import CairoMakie\n",
    "  \n",
    "  CairoMakie.activate!(type = string(fig_format))\n",
    "  CairoMakie.update_theme!(resolution=(fig_width, fig_height))\n",
    "catch e\n",
    "    # @warn \"CairoMakie init\" exception=(e, catch_backtrace())\n",
    "end\n",
    "  \n",
    "# Set run_path if specified\n",
    "try\n",
    "  run_path = raw\"\"\n",
    "  if !isempty(run_path)\n",
    "    cd(run_path)\n",
    "  end\n",
    "catch e\n",
    "  @warn \"Run path init:\" exception=(e, catch_backtrace())\n",
    "end\n",
    "\n",
    "\n",
    "# emulate old Pkg.installed beahvior, see\n",
    "# https://discourse.julialang.org/t/how-to-use-pkg-dependencies-instead-of-pkg-installed/36416/9\n",
    "import Pkg\n",
    "function isinstalled(pkg::String)\n",
    "  any(x -> x.name == pkg && x.is_direct_dep, values(Pkg.dependencies()))\n",
    "end\n",
    "\n",
    "# ojs_define\n",
    "if isinstalled(\"JSON\") && isinstalled(\"DataFrames\")\n",
    "  import JSON, DataFrames\n",
    "  global function ojs_define(; kwargs...)\n",
    "    convert(x) = x\n",
    "    convert(x::DataFrames.AbstractDataFrame) = Tables.rows(x)\n",
    "    content = Dict(\"contents\" => [Dict(\"name\" => k, \"value\" => convert(v)) for (k, v) in kwargs])\n",
    "    tag = \"<script type='ojs-define'>$(JSON.json(content))</script>\"\n",
    "    IJulia.display(MIME(\"text/html\"), tag)\n",
    "  end\n",
    "elseif isinstalled(\"JSON\")\n",
    "  import JSON\n",
    "  global function ojs_define(; kwargs...)\n",
    "    content = Dict(\"contents\" => [Dict(\"name\" => k, \"value\" => v) for (k, v) in kwargs])\n",
    "    tag = \"<script type='ojs-define'>$(JSON.json(content))</script>\"\n",
    "    IJulia.display(MIME(\"text/html\"), tag)\n",
    "  end\n",
    "else\n",
    "  global function ojs_define(; kwargs...)\n",
    "    @warn \"JSON package not available. Please install the JSON.jl package to use ojs_define.\"\n",
    "  end\n",
    "end\n",
    "\n",
    "\n",
    "# don't return kernel dependencies (b/c Revise should take care of dependencies)\n",
    "nothing\n"
   ]
  },
  {
   "cell_type": "code",
   "execution_count": 2,
   "id": "dd372387",
   "metadata": {},
   "outputs": [],
   "source": [
    "using Arrow, MixedModels, StatsModels"
   ]
  },
  {
   "cell_type": "code",
   "execution_count": 3,
   "id": "9a325f68",
   "metadata": {},
   "outputs": [
    {
     "data": {
      "text/plain": [
       "Arrow.Table with 1413 rows, 6 columns, and schema:\n",
       " :Accuracy      Union{Missing, Float64}\n",
       " :Condition     Union{Missing, String}\n",
       " :SemanticFit   Union{Missing, Float64}\n",
       " :Transitivity  Union{Missing, Float64}\n",
       " :Item          Union{Missing, String}\n",
       " :Subject       Union{Missing, Int32}"
      ]
     },
     "execution_count": 3,
     "metadata": {},
     "output_type": "execute_result"
    }
   ],
   "source": [
    "CYC_2022 = Arrow.Table(\"data.arrow\")"
   ]
  },
  {
   "cell_type": "code",
   "execution_count": 4,
   "id": "6d63fc3c",
   "metadata": {},
   "outputs": [
    {
     "data": {
      "text/plain": [
       "FormulaTerm\n",
       "Response:\n",
       "  Accuracy(unknown)\n",
       "Predictors:\n",
       "  Condition(unknown)\n",
       "  SemanticFit(unknown)\n",
       "  Transitivity(unknown)\n",
       "  (Condition,SemanticFit,Transitivity,Subject)->(1 + Condition * SemanticFit * Transitivity) | Subject\n",
       "  (Condition,Item)->(1 + Condition) | Item\n",
       "  Condition(unknown) & SemanticFit(unknown)\n",
       "  Condition(unknown) & Transitivity(unknown)\n",
       "  SemanticFit(unknown) & Transitivity(unknown)\n",
       "  Condition(unknown) & SemanticFit(unknown) & Transitivity(unknown)"
      ]
     },
     "execution_count": 4,
     "metadata": {},
     "output_type": "execute_result"
    }
   ],
   "source": [
    "fm = @formula(\n",
    "  Accuracy ~ Condition * SemanticFit * Transitivity +\n",
    "             (1 + Condition * SemanticFit * Transitivity | Subject) +\n",
    "             (1 + Condition | Item)\n",
    ")"
   ]
  },
  {
   "cell_type": "code",
   "execution_count": 5,
   "id": "97b07b48",
   "metadata": {},
   "outputs": [
    {
     "data": {
      "text/plain": [
       "Dict{Symbol, AbstractContrasts} with 3 entries:\n",
       "  :Item      => Grouping()\n",
       "  :Subject   => Grouping()\n",
       "  :Condition => EffectsCoding(\"Subject\", nothing)"
      ]
     },
     "execution_count": 5,
     "metadata": {},
     "output_type": "execute_result"
    }
   ],
   "source": [
    "coding = Dict(\n",
    "  :Subject => Grouping(),\n",
    "  :Item => Grouping(),\n",
    "  :Condition => EffectsCoding(base = \"Subject\")\n",
    ")"
   ]
  },
  {
   "cell_type": "code",
   "execution_count": 6,
   "id": "820f0b6f",
   "metadata": {},
   "outputs": [
    {
     "name": "stderr",
     "output_type": "stream",
     "text": [
      "┌ Warning: ProgressMeter by default refresh meters with additional information in IJulia via `IJulia.clear_output`, which clears all outputs in the cell. \n",
      "│  - To prevent this behaviour, do `ProgressMeter.ijulia_behavior(:append)`. \n",
      "│  - To disable this warning message, do `ProgressMeter.ijulia_behavior(:clear)`.\n",
      "└ @ ProgressMeter C:\\Users\\jchoe\\.julia\\packages\\ProgressMeter\\sN2xr\\src\\ProgressMeter.jl:618\n",
      "\r",
      "\u001b[32mMinimizing 3403 \t Time: 0:00:34 (10.10 ms/it)\u001b[39m\r\n",
      "\u001b[34m  objective:  1217.8703476613064\u001b[39m\n"
     ]
    },
    {
     "name": "stdout",
     "output_type": "stream",
     "text": [
      " 81.111613 seconds (95.95 M allocations: 5.827 GiB, 2.22% gc time, 59.13% compilation time: 6% of which was recompilation)\n"
     ]
    },
    {
     "data": {
      "text/latex": [
       "\\begin{tabular}\n",
       "{l | r | r | r | r | r | r}\n",
       " & Est. & SE & z & p & $\\sigma_\\text{Subject}$ & $\\sigma_\\text{Item}$ \\\\\n",
       "\\hline\n",
       "(Intercept) & 1.8434 & 0.1952 & 9.45 & <1e-20 & 0.9930 & 0.5580 \\\\\n",
       "Condition: Verb & -0.2287 & 0.0887 & -2.58 & 0.0099 & 0.2914 & 0.0007 \\\\\n",
       "SemanticFit & -0.5677 & 0.1413 & -4.02 & <1e-04 & 0.1290 &   \\\\\n",
       "Transitivity & -0.4029 & 0.1601 & -2.52 & 0.0119 & 0.0789 &   \\\\\n",
       "Condition: Verb \\& SemanticFit & -0.0642 & 0.0826 & -0.78 & 0.4372 & 0.1502 &   \\\\\n",
       "Condition: Verb \\& Transitivity & -0.1180 & 0.0943 & -1.25 & 0.2108 & 0.2206 &   \\\\\n",
       "SemanticFit \\& Transitivity & -0.5050 & 0.1758 & -2.87 & 0.0041 & 0.4297 &   \\\\\n",
       "Condition: Verb \\& SemanticFit \\& Transitivity & 0.0091 & 0.0981 & 0.09 & 0.9259 & 0.0538 &   \\\\\n",
       "\\end{tabular}\n"
      ],
      "text/markdown": [
       "|                                              |    Est. |     SE |     z |      p | σ_Subject | σ_Item |\n",
       "|:-------------------------------------------- | -------:| ------:| -----:| ------:| ---------:| ------:|\n",
       "| (Intercept)                                  |  1.8434 | 0.1952 |  9.45 | <1e-20 |    0.9930 | 0.5580 |\n",
       "| Condition: Verb                              | -0.2287 | 0.0887 | -2.58 | 0.0099 |    0.2914 | 0.0007 |\n",
       "| SemanticFit                                  | -0.5677 | 0.1413 | -4.02 | <1e-04 |    0.1290 |        |\n",
       "| Transitivity                                 | -0.4029 | 0.1601 | -2.52 | 0.0119 |    0.0789 |        |\n",
       "| Condition: Verb & SemanticFit                | -0.0642 | 0.0826 | -0.78 | 0.4372 |    0.1502 |        |\n",
       "| Condition: Verb & Transitivity               | -0.1180 | 0.0943 | -1.25 | 0.2108 |    0.2206 |        |\n",
       "| SemanticFit & Transitivity                   | -0.5050 | 0.1758 | -2.87 | 0.0041 |    0.4297 |        |\n",
       "| Condition: Verb & SemanticFit & Transitivity |  0.0091 | 0.0981 |  0.09 | 0.9259 |    0.0538 |        |\n"
      ],
      "text/plain": [
       "Generalized Linear Mixed Model fit by maximum likelihood (nAGQ = 1)\n",
       "  Accuracy ~ 1 + Condition + SemanticFit + Transitivity + Condition & SemanticFit + Condition & Transitivity + SemanticFit & Transitivity + Condition & SemanticFit & Transitivity + (1 + Condition + SemanticFit + Condition & SemanticFit + Transitivity + Condition & Transitivity + SemanticFit & Transitivity + Condition & SemanticFit & Transitivity | Subject) + (1 + Condition | Item)\n",
       "  Distribution: Bernoulli{Float64}\n",
       "  Link: LogitLink()\n",
       "\n",
       "   logLik    deviance     AIC       AICc        BIC    \n",
       "  -608.9352  1217.8703  1311.8703  1315.1758  1558.7835\n",
       "\n",
       "Variance components:\n",
       "                           Column                      Variance    Std.Dev.    Corr.\n",
       "Subject (Intercept)                                   0.986085052 0.993018153\n",
       "        Condition: Verb                               0.084918810 0.291408322 -0.59\n",
       "        SemanticFit                                   0.016644201 0.129012405 -0.76 -0.07\n",
       "        Condition: Verb & SemanticFit                 0.022555022 0.150183296 +0.13 -0.02 -0.14\n",
       "        Transitivity                                  0.006219789 0.078865640 -0.99 +0.58 +0.76 -0.27\n",
       "        Condition: Verb & Transitivity                0.048651505 0.220570861 -0.88 +0.34 +0.83 +0.27 +0.82\n",
       "        SemanticFit & Transitivity                    0.184627473 0.429682991 -0.04 -0.38 +0.35 -0.90 +0.17 -0.20\n",
       "        Condition: Verb & SemanticFit & Transitivity  0.002896736 0.053821335 +0.38 -0.25 -0.27 -0.87 -0.25 -0.70 +0.80\n",
       "Item    (Intercept)                                   0.311351236 0.557988563\n",
       "        Condition: Verb                               0.000000552 0.000743174 -1.00\n",
       "\n",
       " Number of obs: 1413; levels of grouping factors: 60, 24\n",
       "\n",
       "Fixed-effects parameters:\n",
       "──────────────────────────────────────────────────────────────────────────────────────\n",
       "                                                    Coef.  Std. Error      z  Pr(>|z|)\n",
       "──────────────────────────────────────────────────────────────────────────────────────\n",
       "(Intercept)                                    1.84341      0.195156    9.45    <1e-20\n",
       "Condition: Verb                               -0.228663     0.0886755  -2.58    0.0099\n",
       "SemanticFit                                   -0.567673     0.141348   -4.02    <1e-04\n",
       "Transitivity                                  -0.40286      0.160145   -2.52    0.0119\n",
       "Condition: Verb & SemanticFit                 -0.0642039    0.082629   -0.78    0.4372\n",
       "Condition: Verb & Transitivity                -0.11796      0.0942568  -1.25    0.2108\n",
       "SemanticFit & Transitivity                    -0.504971     0.175797   -2.87    0.0041\n",
       "Condition: Verb & SemanticFit & Transitivity   0.00912937   0.0981357   0.09    0.9259\n",
       "──────────────────────────────────────────────────────────────────────────────────────"
      ]
     },
     "execution_count": 6,
     "metadata": {},
     "output_type": "execute_result"
    }
   ],
   "source": [
    "#| code-fold: true\n",
    "m_maximal = @time fit(MixedModel, fm, CYC_2022, Binomial(), contrasts = coding)"
   ]
  },
  {
   "cell_type": "code",
   "execution_count": 7,
   "id": "437dc2ee",
   "metadata": {},
   "outputs": [
    {
     "data": {
      "text/plain": [
       "true"
      ]
     },
     "execution_count": 7,
     "metadata": {},
     "output_type": "execute_result"
    }
   ],
   "source": [
    "issingular(m_maximal)"
   ]
  },
  {
   "cell_type": "code",
   "execution_count": 8,
   "id": "633ab268",
   "metadata": {},
   "outputs": [
    {
     "data": {
      "text/plain": [
       "FormulaTerm\n",
       "Response:\n",
       "  Accuracy(unknown)\n",
       "Predictors:\n",
       "  Condition(unknown)\n",
       "  SemanticFit(unknown)\n",
       "  Transitivity(unknown)\n",
       "  (Condition,SemanticFit,Transitivity,Subject)->zerocorr((1 + Condition * SemanticFit * Transitivity) | Subject)\n",
       "  (Condition,Item)->zerocorr((1 + Condition) | Item)\n",
       "  Condition(unknown) & SemanticFit(unknown)\n",
       "  Condition(unknown) & Transitivity(unknown)\n",
       "  SemanticFit(unknown) & Transitivity(unknown)\n",
       "  Condition(unknown) & SemanticFit(unknown) & Transitivity(unknown)"
      ]
     },
     "execution_count": 8,
     "metadata": {},
     "output_type": "execute_result"
    }
   ],
   "source": [
    "fm_zerocorr = @formula(\n",
    "  Accuracy ~ Condition * SemanticFit * Transitivity +\n",
    "             zerocorr(1 + Condition * SemanticFit * Transitivity | Subject) +\n",
    "             zerocorr(1 + Condition | Item)\n",
    ")"
   ]
  },
  {
   "cell_type": "code",
   "execution_count": 9,
   "id": "28a264ef",
   "metadata": {},
   "outputs": [
    {
     "name": "stderr",
     "output_type": "stream",
     "text": [
      "┌ Warning: ProgressMeter by default refresh meters with additional information in IJulia via `IJulia.clear_output`, which clears all outputs in the cell. \n",
      "│  - To prevent this behaviour, do `ProgressMeter.ijulia_behavior(:append)`. \n",
      "│  - To disable this warning message, do `ProgressMeter.ijulia_behavior(:clear)`.\n",
      "└ @ ProgressMeter C:\\Users\\jchoe\\.julia\\packages\\ProgressMeter\\sN2xr\\src\\ProgressMeter.jl:618\n",
      "\r",
      "\u001b[32mMinimizing 608 \t Time: 0:00:04 ( 8.02 ms/it)\u001b[39m\r\n",
      "\u001b[34m  objective:  1227.8122818506772\u001b[39m\n"
     ]
    },
    {
     "name": "stdout",
     "output_type": "stream",
     "text": [
      "  7.242609 seconds (3.27 M allocations: 181.544 MiB, 0.92% gc time, 32.40% compilation time)\n"
     ]
    },
    {
     "data": {
      "text/latex": [
       "\\begin{tabular}\n",
       "{l | r | r | r | r | r | r}\n",
       " & Est. & SE & z & p & $\\sigma_\\text{Subject}$ & $\\sigma_\\text{Item}$ \\\\\n",
       "\\hline\n",
       "(Intercept) & 1.7418 & 0.1872 & 9.31 & <1e-19 & 0.9366 & 0.5456 \\\\\n",
       "Condition: Verb & -0.1796 & 0.0823 & -2.18 & 0.0292 & 0.1985 & 0.0000 \\\\\n",
       "SemanticFit & -0.4906 & 0.1367 & -3.59 & 0.0003 & 0.0000 &   \\\\\n",
       "Transitivity & -0.3679 & 0.1565 & -2.35 & 0.0187 & 0.0000 &   \\\\\n",
       "Condition: Verb \\& SemanticFit & -0.0983 & 0.0784 & -1.25 & 0.2098 & 0.0000 &   \\\\\n",
       "Condition: Verb \\& Transitivity & -0.0109 & 0.0876 & -0.12 & 0.9009 & 0.0165 &   \\\\\n",
       "SemanticFit \\& Transitivity & -0.4521 & 0.1665 & -2.72 & 0.0066 & 0.2974 &   \\\\\n",
       "Condition: Verb \\& SemanticFit \\& Transitivity & 0.0080 & 0.0959 & 0.08 & 0.9336 & 0.0000 &   \\\\\n",
       "\\end{tabular}\n"
      ],
      "text/markdown": [
       "|                                              |    Est. |     SE |     z |      p | σ_Subject | σ_Item |\n",
       "|:-------------------------------------------- | -------:| ------:| -----:| ------:| ---------:| ------:|\n",
       "| (Intercept)                                  |  1.7418 | 0.1872 |  9.31 | <1e-19 |    0.9366 | 0.5456 |\n",
       "| Condition: Verb                              | -0.1796 | 0.0823 | -2.18 | 0.0292 |    0.1985 | 0.0000 |\n",
       "| SemanticFit                                  | -0.4906 | 0.1367 | -3.59 | 0.0003 |    0.0000 |        |\n",
       "| Transitivity                                 | -0.3679 | 0.1565 | -2.35 | 0.0187 |    0.0000 |        |\n",
       "| Condition: Verb & SemanticFit                | -0.0983 | 0.0784 | -1.25 | 0.2098 |    0.0000 |        |\n",
       "| Condition: Verb & Transitivity               | -0.0109 | 0.0876 | -0.12 | 0.9009 |    0.0165 |        |\n",
       "| SemanticFit & Transitivity                   | -0.4521 | 0.1665 | -2.72 | 0.0066 |    0.2974 |        |\n",
       "| Condition: Verb & SemanticFit & Transitivity |  0.0080 | 0.0959 |  0.08 | 0.9336 |    0.0000 |        |\n"
      ],
      "text/plain": [
       "Generalized Linear Mixed Model fit by maximum likelihood (nAGQ = 1)\n",
       "  Accuracy ~ 1 + Condition + SemanticFit + Transitivity + Condition & SemanticFit + Condition & Transitivity + SemanticFit & Transitivity + Condition & SemanticFit & Transitivity + MixedModels.ZeroCorr((1 + Condition + SemanticFit + Condition & SemanticFit + Transitivity + Condition & Transitivity + SemanticFit & Transitivity + Condition & SemanticFit & Transitivity | Subject)) + MixedModels.ZeroCorr((1 + Condition | Item))\n",
       "  Distribution: Bernoulli{Float64}\n",
       "  Link: LogitLink()\n",
       "\n",
       "   logLik    deviance     AIC       AICc        BIC    \n",
       "  -613.9061  1227.8123  1263.8123  1264.3030  1358.3747\n",
       "\n",
       "Variance components:\n",
       "                           Column                     Variance  Std.Dev.   Corr.\n",
       "Subject (Intercept)                                   0.8771578 0.9365670\n",
       "        Condition: Verb                               0.0393993 0.1984926   .  \n",
       "        SemanticFit                                   0.0000000 0.0000000   .     .  \n",
       "        Condition: Verb & SemanticFit                 0.0000000 0.0000000   .     .     .  \n",
       "        Transitivity                                  0.0000000 0.0000000   .     .     .     .  \n",
       "        Condition: Verb & Transitivity                0.0002737 0.0165427   .     .     .     .     .  \n",
       "        SemanticFit & Transitivity                    0.0884256 0.2973644   .     .     .     .     .     .  \n",
       "        Condition: Verb & SemanticFit & Transitivity  0.0000000 0.0000000   .     .     .     .     .     .     .  \n",
       "Item    (Intercept)                                   0.2977252 0.5456420\n",
       "        Condition: Verb                               0.0000000 0.0000000   .  \n",
       "\n",
       " Number of obs: 1413; levels of grouping factors: 60, 24\n",
       "\n",
       "Fixed-effects parameters:\n",
       "──────────────────────────────────────────────────────────────────────────────────────\n",
       "                                                    Coef.  Std. Error      z  Pr(>|z|)\n",
       "──────────────────────────────────────────────────────────────────────────────────────\n",
       "(Intercept)                                    1.7418       0.187177    9.31    <1e-19\n",
       "Condition: Verb                               -0.179564     0.0823367  -2.18    0.0292\n",
       "SemanticFit                                   -0.490585     0.136653   -3.59    0.0003\n",
       "Transitivity                                  -0.367917     0.156497   -2.35    0.0187\n",
       "Condition: Verb & SemanticFit                 -0.098335     0.078406   -1.25    0.2098\n",
       "Condition: Verb & Transitivity                -0.0109158    0.087649   -0.12    0.9009\n",
       "SemanticFit & Transitivity                    -0.452107     0.16646    -2.72    0.0066\n",
       "Condition: Verb & SemanticFit & Transitivity   0.00798434   0.0958844   0.08    0.9336\n",
       "──────────────────────────────────────────────────────────────────────────────────────"
      ]
     },
     "execution_count": 9,
     "metadata": {},
     "output_type": "execute_result"
    }
   ],
   "source": [
    "#| code-fold: true\n",
    "m_maximal_zerocorr = @time fit(MixedModel, fm_zerocorr, CYC_2022, Binomial(), contrasts = coding)"
   ]
  },
  {
   "cell_type": "code",
   "execution_count": 10,
   "id": "8e405f67",
   "metadata": {},
   "outputs": [
    {
     "data": {
      "text/plain": [
       "true"
      ]
     },
     "execution_count": 10,
     "metadata": {},
     "output_type": "execute_result"
    }
   ],
   "source": [
    "issingular(m_maximal_zerocorr)"
   ]
  },
  {
   "cell_type": "code",
   "execution_count": 11,
   "id": "5a3a5dc3",
   "metadata": {},
   "outputs": [
    {
     "data": {
      "text/plain": [
       "(Subject = [0.25, 0.5, 0.75, 1.0, 1.0, 1.0, 1.0, 1.0], Item = [1.0, 1.0])"
      ]
     },
     "execution_count": 11,
     "metadata": {},
     "output_type": "execute_result"
    }
   ],
   "source": [
    "m_maximal_zerocorr.rePCA"
   ]
  },
  {
   "cell_type": "code",
   "execution_count": 12,
   "id": "22e9e5d5",
   "metadata": {},
   "outputs": [
    {
     "data": {
      "text/plain": [
       "FormulaTerm\n",
       "Response:\n",
       "  Accuracy(unknown)\n",
       "Predictors:\n",
       "  Condition(unknown)\n",
       "  SemanticFit(unknown)\n",
       "  Transitivity(unknown)\n",
       "  (Condition,Subject)->zerocorr((1 + Condition) | Subject)\n",
       "  (Item)->1 | Item\n",
       "  Condition(unknown) & SemanticFit(unknown)\n",
       "  Condition(unknown) & Transitivity(unknown)\n",
       "  SemanticFit(unknown) & Transitivity(unknown)\n",
       "  Condition(unknown) & SemanticFit(unknown) & Transitivity(unknown)"
      ]
     },
     "execution_count": 12,
     "metadata": {},
     "output_type": "execute_result"
    }
   ],
   "source": [
    "fm_zerocorr_reduced = @formula(\n",
    "  Accuracy ~ Condition * SemanticFit * Transitivity +\n",
    "             zerocorr(1 + Condition | Subject) +\n",
    "             (1 | Item)\n",
    ")"
   ]
  },
  {
   "cell_type": "code",
   "execution_count": 13,
   "id": "b51e439c",
   "metadata": {},
   "outputs": [
    {
     "name": "stderr",
     "output_type": "stream",
     "text": [
      "┌ Warning: ProgressMeter by default refresh meters with additional information in IJulia via `IJulia.clear_output`, which clears all outputs in the cell. \n",
      "│  - To prevent this behaviour, do `ProgressMeter.ijulia_behavior(:append)`. \n",
      "│  - To disable this warning message, do `ProgressMeter.ijulia_behavior(:clear)`.\n",
      "└ @ ProgressMeter C:\\Users\\jchoe\\.julia\\packages\\ProgressMeter\\sN2xr\\src\\ProgressMeter.jl:618\n",
      "\r",
      "\u001b[32mMinimizing 905 \t Time: 0:00:02 ( 3.10 ms/it)\u001b[39m\n"
     ]
    },
    {
     "name": "stdout",
     "output_type": "stream",
     "text": [
      "  5.428734 seconds (2.96 M allocations: 153.321 MiB, 47.78% compilation time)\n"
     ]
    },
    {
     "data": {
      "text/latex": [
       "\\begin{tabular}\n",
       "{l | r | r | r | r | r | r}\n",
       " & Est. & SE & z & p & $\\sigma_\\text{Subject}$ & $\\sigma_\\text{Item}$ \\\\\n",
       "\\hline\n",
       "(Intercept) & 1.7099 & 0.1846 & 9.26 & <1e-19 & 0.9293 & 0.5331 \\\\\n",
       "Condition: Verb & -0.1794 & 0.0815 & -2.20 & 0.0277 & 0.1869 &   \\\\\n",
       "SemanticFit & -0.4684 & 0.1342 & -3.49 & 0.0005 &   &   \\\\\n",
       "Transitivity & -0.3672 & 0.1538 & -2.39 & 0.0170 &   &   \\\\\n",
       "Condition: Verb \\& SemanticFit & -0.1012 & 0.0772 & -1.31 & 0.1895 &   &   \\\\\n",
       "Condition: Verb \\& Transitivity & -0.0099 & 0.0871 & -0.11 & 0.9098 &   &   \\\\\n",
       "SemanticFit \\& Transitivity & -0.4362 & 0.1581 & -2.76 & 0.0058 &   &   \\\\\n",
       "Condition: Verb \\& SemanticFit \\& Transitivity & 0.0187 & 0.0948 & 0.20 & 0.8440 &   &   \\\\\n",
       "\\end{tabular}\n"
      ],
      "text/markdown": [
       "|                                              |    Est. |     SE |     z |      p | σ_Subject | σ_Item |\n",
       "|:-------------------------------------------- | -------:| ------:| -----:| ------:| ---------:| ------:|\n",
       "| (Intercept)                                  |  1.7099 | 0.1846 |  9.26 | <1e-19 |    0.9293 | 0.5331 |\n",
       "| Condition: Verb                              | -0.1794 | 0.0815 | -2.20 | 0.0277 |    0.1869 |        |\n",
       "| SemanticFit                                  | -0.4684 | 0.1342 | -3.49 | 0.0005 |           |        |\n",
       "| Transitivity                                 | -0.3672 | 0.1538 | -2.39 | 0.0170 |           |        |\n",
       "| Condition: Verb & SemanticFit                | -0.1012 | 0.0772 | -1.31 | 0.1895 |           |        |\n",
       "| Condition: Verb & Transitivity               | -0.0099 | 0.0871 | -0.11 | 0.9098 |           |        |\n",
       "| SemanticFit & Transitivity                   | -0.4362 | 0.1581 | -2.76 | 0.0058 |           |        |\n",
       "| Condition: Verb & SemanticFit & Transitivity |  0.0187 | 0.0948 |  0.20 | 0.8440 |           |        |\n"
      ],
      "text/plain": [
       "Generalized Linear Mixed Model fit by maximum likelihood (nAGQ = 1)\n",
       "  Accuracy ~ 1 + Condition + SemanticFit + Transitivity + Condition & SemanticFit + Condition & Transitivity + SemanticFit & Transitivity + Condition & SemanticFit & Transitivity + MixedModels.ZeroCorr((1 + Condition | Subject)) + (1 | Item)\n",
       "  Distribution: Bernoulli{Float64}\n",
       "  Link: LogitLink()\n",
       "\n",
       "   logLik    deviance     AIC       AICc        BIC    \n",
       "  -614.4285  1228.8570  1250.8570  1251.0454  1308.6451\n",
       "\n",
       "Variance components:\n",
       "             Column     Variance Std.Dev.   Corr.\n",
       "Subject (Intercept)      0.863650 0.929328\n",
       "        Condition: Verb  0.034925 0.186884   .  \n",
       "Item    (Intercept)      0.284161 0.533067\n",
       "\n",
       " Number of obs: 1413; levels of grouping factors: 60, 24\n",
       "\n",
       "Fixed-effects parameters:\n",
       "──────────────────────────────────────────────────────────────────────────────────────\n",
       "                                                    Coef.  Std. Error      z  Pr(>|z|)\n",
       "──────────────────────────────────────────────────────────────────────────────────────\n",
       "(Intercept)                                    1.70991      0.184621    9.26    <1e-19\n",
       "Condition: Verb                               -0.179358     0.0814668  -2.20    0.0277\n",
       "SemanticFit                                   -0.468363     0.134189   -3.49    0.0005\n",
       "Transitivity                                  -0.367186     0.153802   -2.39    0.0170\n",
       "Condition: Verb & SemanticFit                 -0.101237     0.0771642  -1.31    0.1895\n",
       "Condition: Verb & Transitivity                -0.00987238   0.0871083  -0.11    0.9098\n",
       "SemanticFit & Transitivity                    -0.43617      0.158053   -2.76    0.0058\n",
       "Condition: Verb & SemanticFit & Transitivity   0.0186555    0.0948247   0.20    0.8440\n",
       "──────────────────────────────────────────────────────────────────────────────────────"
      ]
     },
     "execution_count": 13,
     "metadata": {},
     "output_type": "execute_result"
    }
   ],
   "source": [
    "#| code-fold: true\n",
    "m_maximal_zerocorr_reduced = @time fit(MixedModel, fm_zerocorr_reduced, CYC_2022, Binomial(), contrasts = coding)"
   ]
  },
  {
   "cell_type": "code",
   "execution_count": 14,
   "id": "82ba619d",
   "metadata": {},
   "outputs": [
    {
     "data": {
      "text/plain": [
       "false"
      ]
     },
     "execution_count": 14,
     "metadata": {},
     "output_type": "execute_result"
    }
   ],
   "source": [
    "issingular(m_maximal_zerocorr_reduced)"
   ]
  },
  {
   "cell_type": "code",
   "execution_count": 15,
   "id": "02852db8",
   "metadata": {},
   "outputs": [
    {
     "data": {
      "text/plain": [
       "FormulaTerm\n",
       "Response:\n",
       "  Accuracy(unknown)\n",
       "Predictors:\n",
       "  Condition(unknown)\n",
       "  SemanticFit(unknown)\n",
       "  Transitivity(unknown)\n",
       "  (Condition,Subject)->(1 + Condition) | Subject\n",
       "  (Item)->1 | Item\n",
       "  Condition(unknown) & SemanticFit(unknown)\n",
       "  Condition(unknown) & Transitivity(unknown)\n",
       "  SemanticFit(unknown) & Transitivity(unknown)\n",
       "  Condition(unknown) & SemanticFit(unknown) & Transitivity(unknown)"
      ]
     },
     "execution_count": 15,
     "metadata": {},
     "output_type": "execute_result"
    }
   ],
   "source": [
    "fm_corr_reduced = @formula(\n",
    "  Accuracy ~ Condition * SemanticFit * Transitivity +\n",
    "             (1 + Condition | Subject) +\n",
    "             (1 | Item)\n",
    ")"
   ]
  },
  {
   "cell_type": "code",
   "execution_count": 16,
   "id": "5f4fcc49",
   "metadata": {},
   "outputs": [
    {
     "name": "stderr",
     "output_type": "stream",
     "text": [
      "┌ Warning: ProgressMeter by default refresh meters with additional information in IJulia via `IJulia.clear_output`, which clears all outputs in the cell. \n",
      "│  - To prevent this behaviour, do `ProgressMeter.ijulia_behavior(:append)`. \n",
      "│  - To disable this warning message, do `ProgressMeter.ijulia_behavior(:clear)`.\n",
      "└ @ ProgressMeter C:\\Users\\jchoe\\.julia\\packages\\ProgressMeter\\sN2xr\\src\\ProgressMeter.jl:618\n",
      "\r",
      "\u001b[32mMinimizing 1080 \t Time: 0:00:03 ( 3.40 ms/it)\u001b[39m\n"
     ]
    },
    {
     "name": "stdout",
     "output_type": "stream",
     "text": [
      "  4.457088 seconds (1.58 M allocations: 77.417 MiB, 17.24% compilation time)\n"
     ]
    },
    {
     "data": {
      "text/latex": [
       "\\begin{tabular}\n",
       "{l | r | r | r | r | r | r}\n",
       " & Est. & SE & z & p & $\\sigma_\\text{Subject}$ & $\\sigma_\\text{Item}$ \\\\\n",
       "\\hline\n",
       "(Intercept) & 1.7294 & 0.1874 & 9.23 & <1e-19 & 0.9545 & 0.5347 \\\\\n",
       "Condition: Verb & -0.2372 & 0.0843 & -2.81 & 0.0049 & 0.2355 &   \\\\\n",
       "SemanticFit & -0.4688 & 0.1345 & -3.49 & 0.0005 &   &   \\\\\n",
       "Transitivity & -0.3688 & 0.1543 & -2.39 & 0.0168 &   &   \\\\\n",
       "Condition: Verb \\& SemanticFit & -0.0877 & 0.0773 & -1.14 & 0.2563 &   &   \\\\\n",
       "Condition: Verb \\& Transitivity & 0.0007 & 0.0874 & 0.01 & 0.9940 &   &   \\\\\n",
       "SemanticFit \\& Transitivity & -0.4400 & 0.1584 & -2.78 & 0.0055 &   &   \\\\\n",
       "Condition: Verb \\& SemanticFit \\& Transitivity & 0.0293 & 0.0949 & 0.31 & 0.7578 &   &   \\\\\n",
       "\\end{tabular}\n"
      ],
      "text/markdown": [
       "|                                              |    Est. |     SE |     z |      p | σ_Subject | σ_Item |\n",
       "|:-------------------------------------------- | -------:| ------:| -----:| ------:| ---------:| ------:|\n",
       "| (Intercept)                                  |  1.7294 | 0.1874 |  9.23 | <1e-19 |    0.9545 | 0.5347 |\n",
       "| Condition: Verb                              | -0.2372 | 0.0843 | -2.81 | 0.0049 |    0.2355 |        |\n",
       "| SemanticFit                                  | -0.4688 | 0.1345 | -3.49 | 0.0005 |           |        |\n",
       "| Transitivity                                 | -0.3688 | 0.1543 | -2.39 | 0.0168 |           |        |\n",
       "| Condition: Verb & SemanticFit                | -0.0877 | 0.0773 | -1.14 | 0.2563 |           |        |\n",
       "| Condition: Verb & Transitivity               |  0.0007 | 0.0874 |  0.01 | 0.9940 |           |        |\n",
       "| SemanticFit & Transitivity                   | -0.4400 | 0.1584 | -2.78 | 0.0055 |           |        |\n",
       "| Condition: Verb & SemanticFit & Transitivity |  0.0293 | 0.0949 |  0.31 | 0.7578 |           |        |\n"
      ],
      "text/plain": [
       "Generalized Linear Mixed Model fit by maximum likelihood (nAGQ = 1)\n",
       "  Accuracy ~ 1 + Condition + SemanticFit + Transitivity + Condition & SemanticFit + Condition & Transitivity + SemanticFit & Transitivity + Condition & SemanticFit & Transitivity + (1 + Condition | Subject) + (1 | Item)\n",
       "  Distribution: Bernoulli{Float64}\n",
       "  Link: LogitLink()\n",
       "\n",
       "   logLik    deviance     AIC       AICc        BIC    \n",
       "  -613.6471  1227.2943  1251.2943  1251.5171  1314.3359\n",
       "\n",
       "Variance components:\n",
       "             Column     Variance Std.Dev.   Corr.\n",
       "Subject (Intercept)      0.911108 0.954520\n",
       "        Condition: Verb  0.055477 0.235536 -0.61\n",
       "Item    (Intercept)      0.285915 0.534710\n",
       "\n",
       " Number of obs: 1413; levels of grouping factors: 60, 24\n",
       "\n",
       "Fixed-effects parameters:\n",
       "──────────────────────────────────────────────────────────────────────────────────────\n",
       "                                                    Coef.  Std. Error      z  Pr(>|z|)\n",
       "──────────────────────────────────────────────────────────────────────────────────────\n",
       "(Intercept)                                    1.72935      0.18738     9.23    <1e-19\n",
       "Condition: Verb                               -0.237198     0.0842937  -2.81    0.0049\n",
       "SemanticFit                                   -0.468803     0.13448    -3.49    0.0005\n",
       "Transitivity                                  -0.368828     0.154266   -2.39    0.0168\n",
       "Condition: Verb & SemanticFit                 -0.087727     0.0772851  -1.14    0.2563\n",
       "Condition: Verb & Transitivity                 0.00066148   0.0873927   0.01    0.9940\n",
       "SemanticFit & Transitivity                    -0.440037     0.158396   -2.78    0.0055\n",
       "Condition: Verb & SemanticFit & Transitivity   0.029271     0.0949233   0.31    0.7578\n",
       "──────────────────────────────────────────────────────────────────────────────────────"
      ]
     },
     "execution_count": 16,
     "metadata": {},
     "output_type": "execute_result"
    }
   ],
   "source": [
    "#| code-fold: true\n",
    "m_maximal_corr_reduced = @time fit(MixedModel, fm_corr_reduced, CYC_2022, Binomial(), contrasts = coding)"
   ]
  },
  {
   "cell_type": "code",
   "execution_count": 17,
   "id": "35bdc938",
   "metadata": {},
   "outputs": [
    {
     "data": {
      "text/plain": [
       "false"
      ]
     },
     "execution_count": 17,
     "metadata": {},
     "output_type": "execute_result"
    }
   ],
   "source": [
    "issingular(m_maximal_corr_reduced)"
   ]
  }
 ],
 "metadata": {
  "kernelspec": {
   "display_name": "Julia 1.8.0-rc4",
   "language": "julia",
   "name": "julia-1.8"
  },
  "language_info": {
   "file_extension": ".jl",
   "mimetype": "application/julia",
   "name": "julia",
   "version": "1.8.0"
  }
 },
 "nbformat": 4,
 "nbformat_minor": 5
}